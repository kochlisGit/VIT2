{
 "cells": [
  {
   "cell_type": "markdown",
   "id": "e0a42b1dd7c03547",
   "metadata": {
    "collapsed": false,
    "jupyter": {
     "outputs_hidden": false
    }
   },
   "source": [
    "# Import Libraries"
   ]
  },
  {
   "cell_type": "code",
   "execution_count": 1,
   "id": "initial_id",
   "metadata": {
    "ExecuteTime": {
     "end_time": "2024-03-26T11:44:32.407030600Z",
     "start_time": "2024-03-26T11:44:32.330761700Z"
    }
   },
   "outputs": [],
   "source": [
    "import os\n",
    "import ipywidgets as widgets\n",
    "import pandas as pd\n",
    "import plotly.express as px\n",
    "import plotly.graph_objects as go\n",
    "import seaborn as sns\n",
    "from typing import List\n",
    "from IPython.display import display, HTML\n",
    "from data.loader import DatasetLoader"
   ]
  },
  {
   "cell_type": "markdown",
   "id": "496f8e4084c19094",
   "metadata": {
    "collapsed": false,
    "jupyter": {
     "outputs_hidden": false
    }
   },
   "source": [
    "# Load Datasets"
   ]
  },
  {
   "cell_type": "code",
   "execution_count": 2,
   "id": "ebf426fb4cce19cd",
   "metadata": {
    "ExecuteTime": {
     "end_time": "2024-03-26T11:44:34.180498900Z",
     "start_time": "2024-03-26T11:44:34.116472600Z"
    },
    "collapsed": false,
    "jupyter": {
     "outputs_hidden": false
    }
   },
   "outputs": [
    {
     "data": {
      "text/plain": [
       "'Extracted 151 datasets of 14 unique exchanges and 46 unique symbols'"
      ]
     },
     "execution_count": 2,
     "metadata": {},
     "output_type": "execute_result"
    }
   ],
   "source": [
    "dataset_directory = 'data/datasets'\n",
    "extracted_exchanges = set()\n",
    "extracted_symbols = set()\n",
    "dataset_configs = []\n",
    "\n",
    "for filename in os.listdir(path=dataset_directory):\n",
    "    exchange, symbol, _ = filename.split('_')\n",
    "    extracted_exchanges.add(exchange)\n",
    "    extracted_symbols.add(symbol)\n",
    "    dataset_configs.append({'symbol': symbol, 'exchange': exchange})\n",
    "        \n",
    "f'Extracted {len(dataset_configs)} datasets of {len(extracted_exchanges)} unique exchanges and {len(extracted_symbols)} unique symbols'"
   ]
  },
  {
   "cell_type": "code",
   "execution_count": 3,
   "id": "59192f461b61228d",
   "metadata": {
    "ExecuteTime": {
     "end_time": "2024-03-26T11:44:38.430688200Z",
     "start_time": "2024-03-26T11:44:34.325181400Z"
    },
    "collapsed": false,
    "jupyter": {
     "outputs_hidden": false
    }
   },
   "outputs": [
    {
     "data": {
      "text/html": [
       "<div>\n",
       "<style scoped>\n",
       "    .dataframe tbody tr th:only-of-type {\n",
       "        vertical-align: middle;\n",
       "    }\n",
       "\n",
       "    .dataframe tbody tr th {\n",
       "        vertical-align: top;\n",
       "    }\n",
       "\n",
       "    .dataframe thead th {\n",
       "        text-align: right;\n",
       "    }\n",
       "</style>\n",
       "<table border=\"1\" class=\"dataframe\">\n",
       "  <thead>\n",
       "    <tr style=\"text-align: right;\">\n",
       "      <th></th>\n",
       "      <th>exchange</th>\n",
       "      <th>symbol</th>\n",
       "      <th>date</th>\n",
       "      <th>open</th>\n",
       "      <th>high</th>\n",
       "      <th>low</th>\n",
       "      <th>close</th>\n",
       "      <th>volume</th>\n",
       "      <th>ema</th>\n",
       "      <th>vwap</th>\n",
       "      <th>rsi</th>\n",
       "      <th>cci</th>\n",
       "      <th>adx</th>\n",
       "      <th>day</th>\n",
       "      <th>targets</th>\n",
       "    </tr>\n",
       "  </thead>\n",
       "  <tbody>\n",
       "    <tr>\n",
       "      <th>0</th>\n",
       "      <td>Abucoins</td>\n",
       "      <td>BTCUSD</td>\n",
       "      <td>2017-11-21</td>\n",
       "      <td>8225.410000</td>\n",
       "      <td>8414.870000</td>\n",
       "      <td>7898.14000</td>\n",
       "      <td>8132.54000</td>\n",
       "      <td>3.059447e+04</td>\n",
       "      <td>7516.706981</td>\n",
       "      <td>6954.421359</td>\n",
       "      <td>65.112345</td>\n",
       "      <td>139.740506</td>\n",
       "      <td>0.0</td>\n",
       "      <td>1</td>\n",
       "      <td>-0.011355</td>\n",
       "    </tr>\n",
       "    <tr>\n",
       "      <th>0</th>\n",
       "      <td>Binance</td>\n",
       "      <td>AAVEUSDT</td>\n",
       "      <td>2020-11-03</td>\n",
       "      <td>29.723000</td>\n",
       "      <td>30.075000</td>\n",
       "      <td>27.42400</td>\n",
       "      <td>28.12200</td>\n",
       "      <td>2.391137e+06</td>\n",
       "      <td>32.998003</td>\n",
       "      <td>34.604850</td>\n",
       "      <td>31.018244</td>\n",
       "      <td>-119.882237</td>\n",
       "      <td>0.0</td>\n",
       "      <td>1</td>\n",
       "      <td>-0.055403</td>\n",
       "    </tr>\n",
       "    <tr>\n",
       "      <th>0</th>\n",
       "      <td>Binance</td>\n",
       "      <td>ADAUSDT</td>\n",
       "      <td>2018-05-06</td>\n",
       "      <td>0.365020</td>\n",
       "      <td>0.366410</td>\n",
       "      <td>0.33538</td>\n",
       "      <td>0.34654</td>\n",
       "      <td>2.220280e+07</td>\n",
       "      <td>0.335429</td>\n",
       "      <td>0.336108</td>\n",
       "      <td>60.586776</td>\n",
       "      <td>63.450307</td>\n",
       "      <td>0.0</td>\n",
       "      <td>6</td>\n",
       "      <td>-0.051954</td>\n",
       "    </tr>\n",
       "    <tr>\n",
       "      <th>0</th>\n",
       "      <td>Binance</td>\n",
       "      <td>ATOMUSDT</td>\n",
       "      <td>2019-05-18</td>\n",
       "      <td>4.413000</td>\n",
       "      <td>5.000000</td>\n",
       "      <td>4.33000</td>\n",
       "      <td>4.68400</td>\n",
       "      <td>8.791709e+06</td>\n",
       "      <td>4.278062</td>\n",
       "      <td>4.348880</td>\n",
       "      <td>60.244497</td>\n",
       "      <td>59.266228</td>\n",
       "      <td>0.0</td>\n",
       "      <td>5</td>\n",
       "      <td>0.059598</td>\n",
       "    </tr>\n",
       "    <tr>\n",
       "      <th>0</th>\n",
       "      <td>Binance</td>\n",
       "      <td>AVAXUSDT</td>\n",
       "      <td>2020-10-11</td>\n",
       "      <td>4.020500</td>\n",
       "      <td>4.176200</td>\n",
       "      <td>3.93330</td>\n",
       "      <td>4.09600</td>\n",
       "      <td>2.203938e+06</td>\n",
       "      <td>4.096434</td>\n",
       "      <td>4.017947</td>\n",
       "      <td>45.017671</td>\n",
       "      <td>-15.584925</td>\n",
       "      <td>0.0</td>\n",
       "      <td>6</td>\n",
       "      <td>0.017983</td>\n",
       "    </tr>\n",
       "    <tr>\n",
       "      <th>...</th>\n",
       "      <td>...</td>\n",
       "      <td>...</td>\n",
       "      <td>...</td>\n",
       "      <td>...</td>\n",
       "      <td>...</td>\n",
       "      <td>...</td>\n",
       "      <td>...</td>\n",
       "      <td>...</td>\n",
       "      <td>...</td>\n",
       "      <td>...</td>\n",
       "      <td>...</td>\n",
       "      <td>...</td>\n",
       "      <td>...</td>\n",
       "      <td>...</td>\n",
       "      <td>...</td>\n",
       "    </tr>\n",
       "    <tr>\n",
       "      <th>0</th>\n",
       "      <td>Yobit</td>\n",
       "      <td>BTCUSD</td>\n",
       "      <td>2017-06-14</td>\n",
       "      <td>2772.140000</td>\n",
       "      <td>2822.000000</td>\n",
       "      <td>2476.87000</td>\n",
       "      <td>2580.71000</td>\n",
       "      <td>1.554554e+05</td>\n",
       "      <td>2682.292936</td>\n",
       "      <td>2703.519150</td>\n",
       "      <td>49.342972</td>\n",
       "      <td>19.347045</td>\n",
       "      <td>0.0</td>\n",
       "      <td>2</td>\n",
       "      <td>-0.071555</td>\n",
       "    </tr>\n",
       "    <tr>\n",
       "      <th>0</th>\n",
       "      <td>Yobit</td>\n",
       "      <td>DOGEUSD</td>\n",
       "      <td>2017-06-14</td>\n",
       "      <td>0.003383</td>\n",
       "      <td>0.003383</td>\n",
       "      <td>0.00300</td>\n",
       "      <td>0.00300</td>\n",
       "      <td>1.187070e+03</td>\n",
       "      <td>0.003217</td>\n",
       "      <td>0.003299</td>\n",
       "      <td>47.288654</td>\n",
       "      <td>8.415431</td>\n",
       "      <td>0.0</td>\n",
       "      <td>2</td>\n",
       "      <td>-0.120151</td>\n",
       "    </tr>\n",
       "    <tr>\n",
       "      <th>0</th>\n",
       "      <td>Yobit</td>\n",
       "      <td>ETHUSD</td>\n",
       "      <td>2017-06-14</td>\n",
       "      <td>401.000000</td>\n",
       "      <td>401.150000</td>\n",
       "      <td>342.53000</td>\n",
       "      <td>362.00000</td>\n",
       "      <td>4.989309e+04</td>\n",
       "      <td>305.053234</td>\n",
       "      <td>330.955990</td>\n",
       "      <td>76.209985</td>\n",
       "      <td>132.433611</td>\n",
       "      <td>0.0</td>\n",
       "      <td>2</td>\n",
       "      <td>-0.102317</td>\n",
       "    </tr>\n",
       "    <tr>\n",
       "      <th>0</th>\n",
       "      <td>Yobit</td>\n",
       "      <td>LTCUSD</td>\n",
       "      <td>2017-06-14</td>\n",
       "      <td>31.500000</td>\n",
       "      <td>32.000000</td>\n",
       "      <td>29.50000</td>\n",
       "      <td>29.50000</td>\n",
       "      <td>8.509000e+02</td>\n",
       "      <td>29.534827</td>\n",
       "      <td>29.631351</td>\n",
       "      <td>50.901292</td>\n",
       "      <td>72.043264</td>\n",
       "      <td>0.0</td>\n",
       "      <td>2</td>\n",
       "      <td>-0.065597</td>\n",
       "    </tr>\n",
       "    <tr>\n",
       "      <th>0</th>\n",
       "      <td>Yobit</td>\n",
       "      <td>TRXUSD</td>\n",
       "      <td>2018-01-01</td>\n",
       "      <td>0.046500</td>\n",
       "      <td>0.057000</td>\n",
       "      <td>0.04450</td>\n",
       "      <td>0.05700</td>\n",
       "      <td>1.337367e+05</td>\n",
       "      <td>0.042252</td>\n",
       "      <td>0.045625</td>\n",
       "      <td>66.018046</td>\n",
       "      <td>124.776279</td>\n",
       "      <td>0.0</td>\n",
       "      <td>0</td>\n",
       "      <td>0.203599</td>\n",
       "    </tr>\n",
       "  </tbody>\n",
       "</table>\n",
       "<p>151 rows × 15 columns</p>\n",
       "</div>"
      ],
      "text/plain": [
       "    exchange    symbol        date         open         high         low  \\\n",
       "0   Abucoins    BTCUSD  2017-11-21  8225.410000  8414.870000  7898.14000   \n",
       "0    Binance  AAVEUSDT  2020-11-03    29.723000    30.075000    27.42400   \n",
       "0    Binance   ADAUSDT  2018-05-06     0.365020     0.366410     0.33538   \n",
       "0    Binance  ATOMUSDT  2019-05-18     4.413000     5.000000     4.33000   \n",
       "0    Binance  AVAXUSDT  2020-10-11     4.020500     4.176200     3.93330   \n",
       "..       ...       ...         ...          ...          ...         ...   \n",
       "0      Yobit    BTCUSD  2017-06-14  2772.140000  2822.000000  2476.87000   \n",
       "0      Yobit   DOGEUSD  2017-06-14     0.003383     0.003383     0.00300   \n",
       "0      Yobit    ETHUSD  2017-06-14   401.000000   401.150000   342.53000   \n",
       "0      Yobit    LTCUSD  2017-06-14    31.500000    32.000000    29.50000   \n",
       "0      Yobit    TRXUSD  2018-01-01     0.046500     0.057000     0.04450   \n",
       "\n",
       "         close        volume          ema         vwap        rsi         cci  \\\n",
       "0   8132.54000  3.059447e+04  7516.706981  6954.421359  65.112345  139.740506   \n",
       "0     28.12200  2.391137e+06    32.998003    34.604850  31.018244 -119.882237   \n",
       "0      0.34654  2.220280e+07     0.335429     0.336108  60.586776   63.450307   \n",
       "0      4.68400  8.791709e+06     4.278062     4.348880  60.244497   59.266228   \n",
       "0      4.09600  2.203938e+06     4.096434     4.017947  45.017671  -15.584925   \n",
       "..         ...           ...          ...          ...        ...         ...   \n",
       "0   2580.71000  1.554554e+05  2682.292936  2703.519150  49.342972   19.347045   \n",
       "0      0.00300  1.187070e+03     0.003217     0.003299  47.288654    8.415431   \n",
       "0    362.00000  4.989309e+04   305.053234   330.955990  76.209985  132.433611   \n",
       "0     29.50000  8.509000e+02    29.534827    29.631351  50.901292   72.043264   \n",
       "0      0.05700  1.337367e+05     0.042252     0.045625  66.018046  124.776279   \n",
       "\n",
       "    adx  day   targets  \n",
       "0   0.0    1 -0.011355  \n",
       "0   0.0    1 -0.055403  \n",
       "0   0.0    6 -0.051954  \n",
       "0   0.0    5  0.059598  \n",
       "0   0.0    6  0.017983  \n",
       "..  ...  ...       ...  \n",
       "0   0.0    2 -0.071555  \n",
       "0   0.0    2 -0.120151  \n",
       "0   0.0    2 -0.102317  \n",
       "0   0.0    2 -0.065597  \n",
       "0   0.0    0  0.203599  \n",
       "\n",
       "[151 rows x 15 columns]"
      ]
     },
     "execution_count": 3,
     "metadata": {},
     "output_type": "execute_result"
    }
   ],
   "source": [
    "dataframes = DatasetLoader(dataset_directory=dataset_directory).load_datasets(dataset_configs=dataset_configs)\n",
    "dataframes['date'] = dataframes['date'].astype(str).apply(lambda d: d.split(' ')[0])\n",
    "dataframes.groupby(by=['exchange', 'symbol']).head(1)"
   ]
  },
  {
   "cell_type": "markdown",
   "id": "f5b9577781da62ac",
   "metadata": {
    "collapsed": false,
    "jupyter": {
     "outputs_hidden": false
    }
   },
   "source": [
    "# Visualizing Candlesticks"
   ]
  },
  {
   "cell_type": "code",
   "execution_count": 4,
   "id": "ac8be99f925f250",
   "metadata": {
    "ExecuteTime": {
     "start_time": "2024-03-26T11:44:38.430688200Z"
    },
    "collapsed": false,
    "is_executing": true,
    "jupyter": {
     "outputs_hidden": false
    },
    "scrolled": true
   },
   "outputs": [
    {
     "data": {
      "application/vnd.jupyter.widget-view+json": {
       "model_id": "02f7bdb18c89499e9e79dfc18f966b9f",
       "version_major": 2,
       "version_minor": 0
      },
      "text/plain": [
       "HBox(children=(Dropdown(description='Symbol Pair:', index=12, options=('AAVEUSD', 'AAVEUSDT', 'ADAUSD', 'ADAUS…"
      ]
     },
     "metadata": {},
     "output_type": "display_data"
    },
    {
     "data": {
      "application/vnd.jupyter.widget-view+json": {
       "model_id": "5f89d4bd227148fd8a12e49b0eed762c",
       "version_major": 2,
       "version_minor": 0
      },
      "text/plain": [
       "Output()"
      ]
     },
     "metadata": {},
     "output_type": "display_data"
    }
   ],
   "source": [
    "def visualize_candlesticks(symbol: str, exchanges: List[str]):\n",
    "    if not isinstance(exchanges, list):\n",
    "        exchanges = list(exchanges)    \n",
    "    \n",
    "    mask = (dataframes['symbol'] == symbol) & (dataframes['exchange'].isin(exchanges))\n",
    "    symbol_df = dataframes.loc[mask, ['symbol', 'exchange', 'date', 'open', 'high', 'low', 'close']]\n",
    "    \n",
    "    if symbol_df.shape[0] > 0:\n",
    "        total_exchanges = symbol_df['exchange'].unique().tolist()\n",
    "        num_exchanges = len(total_exchanges)\n",
    "        palette = sns.color_palette('hsv', num_exchanges).as_hex()\n",
    "        color_dict = dict(zip(total_exchanges, palette))\n",
    "        \n",
    "        traces = []\n",
    "        for exchange in total_exchanges:\n",
    "            data = symbol_df[symbol_df['exchange'] == exchange]\n",
    "            traces.append(go.Candlestick(\n",
    "                x=data['date'],\n",
    "                open=data['open'],\n",
    "                high=data['high'],\n",
    "                low=data['low'],\n",
    "                close=data['close'],\n",
    "                name=exchange,\n",
    "                increasing=dict(line=dict(color=color_dict[exchange])),\n",
    "                decreasing=dict(line=dict(color=color_dict[exchange]))\n",
    "            ))\n",
    "            \n",
    "\n",
    "        layout = go.Layout(\n",
    "            title=f'Candlestick Chart of {symbol} in {num_exchanges}',\n",
    "            xaxis=dict(title='Date', rangeslider=dict(visible=False))\n",
    "        )\n",
    "        fig = go.Figure(data=traces, layout=layout)\n",
    "        fig.show()\n",
    "        display(HTML(symbol_df.head(5).to_html()))\n",
    "        return fig\n",
    "    return None\n",
    "\n",
    "\n",
    "symbol_dropdown = widgets.Dropdown(\n",
    "    options=sorted(extracted_symbols),\n",
    "    value='BTCUSDT',\n",
    "    description='Symbol Pair:',\n",
    "    disabled=False\n",
    ")\n",
    "exchange_box = widgets.SelectMultiple(\n",
    "    options=sorted(extracted_exchanges),\n",
    "    value=list(extracted_exchanges),\n",
    "    description='Exhanges',\n",
    "    disabled=False\n",
    ")\n",
    "hbox = widgets.HBox([symbol_dropdown, exchange_box])\n",
    "\n",
    "candlesticks_fig_output = widgets.interactive_output(\n",
    "    visualize_candlesticks, \n",
    "    {'symbol': symbol_dropdown, 'exchanges': exchange_box}\n",
    ")\n",
    "display(hbox, candlesticks_fig_output)"
   ]
  }
 ],
 "metadata": {
  "kernelspec": {
   "display_name": "Python 3 (ipykernel)",
   "language": "python",
   "name": "python3"
  },
  "language_info": {
   "codemirror_mode": {
    "name": "ipython",
    "version": 3
   },
   "file_extension": ".py",
   "mimetype": "text/x-python",
   "name": "python",
   "nbconvert_exporter": "python",
   "pygments_lexer": "ipython3",
   "version": "3.10.12"
  }
 },
 "nbformat": 4,
 "nbformat_minor": 5
}
